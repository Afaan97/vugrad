{
 "cells": [
  {
   "cell_type": "code",
   "execution_count": 2,
   "id": "56436a49",
   "metadata": {},
   "outputs": [],
   "source": [
    "import vugrad as vg \n",
    "import numpy as np"
   ]
  },
  {
   "cell_type": "code",
   "execution_count": 18,
   "id": "3dbe46e8",
   "metadata": {},
   "outputs": [
    {
     "name": "stdout",
     "output_type": "stream",
     "text": [
      "[[-1.17098984 -0.03976799]\n",
      " [-0.32791296 -0.54763839]]\n",
      "[[-3.16596779 -0.41972361]\n",
      " [-2.52568349 -0.65717609]]\n",
      "<vugrad.core.OpNode object at 0x10799f3a0>\n",
      "[[-1.17098984 -0.03976799]\n",
      " [-0.32791296 -0.54763839]]\n",
      "[[0. 0.]\n",
      " [0. 0.]]\n"
     ]
    }
   ],
   "source": [
    "a = vg.TensorNode(np.random.randn(2, 2))\n",
    "b = vg.TensorNode(np.random.randn(2, 2))\n",
    "c = a + b \n",
    "\n",
    "print(a.value)\n",
    "\n",
    "\n",
    "print(c.value)\n",
    "print(c.source)\n",
    "print(c.source.inputs[0].value) \n",
    "print(a.grad)"
   ]
  },
  {
   "cell_type": "code",
   "execution_count": null,
   "id": "77771d34",
   "metadata": {},
   "outputs": [],
   "source": []
  }
 ],
 "metadata": {
  "kernelspec": {
   "display_name": "Python 3 (ipykernel)",
   "language": "python",
   "name": "python3"
  },
  "language_info": {
   "codemirror_mode": {
    "name": "ipython",
    "version": 3
   },
   "file_extension": ".py",
   "mimetype": "text/x-python",
   "name": "python",
   "nbconvert_exporter": "python",
   "pygments_lexer": "ipython3",
   "version": "3.10.6"
  }
 },
 "nbformat": 4,
 "nbformat_minor": 5
}
